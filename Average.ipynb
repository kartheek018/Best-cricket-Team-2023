{
 "cells": [
  {
   "cell_type": "code",
   "execution_count": 19,
   "metadata": {},
   "outputs": [],
   "source": [
    "import pandas as pd\n",
    "import numpy as np"
   ]
  },
  {
   "cell_type": "code",
   "execution_count": 20,
   "metadata": {},
   "outputs": [],
   "source": [
    "df=pd.read_excel(r\"C:\\Users\\gnana\\Downloads\\2023 Cricket dataset.xlsx\",sheet_name=\"Summary\")"
   ]
  },
  {
   "cell_type": "code",
   "execution_count": 21,
   "metadata": {},
   "outputs": [],
   "source": [
    "df[\"Margin_dup\"]=df[\"Margin\"].replace(\"[A-Za-z]\",\"\",regex=True)"
   ]
  },
  {
   "cell_type": "code",
   "execution_count": 22,
   "metadata": {},
   "outputs": [],
   "source": [
    "df[\"Margin_dup\"]=df[\"Margin_dup\"].astype(int)"
   ]
  },
  {
   "cell_type": "code",
   "execution_count": 23,
   "metadata": {},
   "outputs": [],
   "source": [
    "df[\"bat_first_dup\"]=df[\"bat_first_score\"].astype(str).apply(lambda x: \"0\"+x if len(x)<3 else x[:3])"
   ]
  },
  {
   "cell_type": "code",
   "execution_count": 26,
   "metadata": {},
   "outputs": [],
   "source": [
    "df[\"bat_first_dup\"]=df[\"bat_first_dup\"].astype(int)"
   ]
  },
  {
   "cell_type": "code",
   "execution_count": 27,
   "metadata": {},
   "outputs": [
    {
     "data": {
      "text/html": [
       "<div>\n",
       "<style scoped>\n",
       "    .dataframe tbody tr th:only-of-type {\n",
       "        vertical-align: middle;\n",
       "    }\n",
       "\n",
       "    .dataframe tbody tr th {\n",
       "        vertical-align: top;\n",
       "    }\n",
       "\n",
       "    .dataframe thead th {\n",
       "        text-align: right;\n",
       "    }\n",
       "</style>\n",
       "<table border=\"1\" class=\"dataframe\">\n",
       "  <thead>\n",
       "    <tr style=\"text-align: right;\">\n",
       "      <th></th>\n",
       "      <th>Team 1</th>\n",
       "      <th>Team 2</th>\n",
       "      <th>Winner</th>\n",
       "      <th>Margin</th>\n",
       "      <th>Ground</th>\n",
       "      <th>Match Date</th>\n",
       "      <th>id</th>\n",
       "      <th>bat_first</th>\n",
       "      <th>bat_second</th>\n",
       "      <th>bat_first_score</th>\n",
       "      <th>bat_second_score</th>\n",
       "      <th>Scorecard</th>\n",
       "      <th>Margin_dup</th>\n",
       "      <th>bat_first_dup</th>\n",
       "    </tr>\n",
       "  </thead>\n",
       "  <tbody>\n",
       "    <tr>\n",
       "      <th>0</th>\n",
       "      <td>India</td>\n",
       "      <td>Australia</td>\n",
       "      <td>Australia</td>\n",
       "      <td>6 wickets</td>\n",
       "      <td>Ahmedabad</td>\n",
       "      <td>2023-11-19</td>\n",
       "      <td>4705.0</td>\n",
       "      <td>India</td>\n",
       "      <td>Australia</td>\n",
       "      <td>240.0</td>\n",
       "      <td>241/4</td>\n",
       "      <td>https://www.espncricinfo.com/https://www.espnc...</td>\n",
       "      <td>6</td>\n",
       "      <td>240</td>\n",
       "    </tr>\n",
       "    <tr>\n",
       "      <th>1</th>\n",
       "      <td>Australia</td>\n",
       "      <td>South Africa</td>\n",
       "      <td>Australia</td>\n",
       "      <td>3 wickets</td>\n",
       "      <td>Eden Gardens</td>\n",
       "      <td>2023-11-16</td>\n",
       "      <td>4704.0</td>\n",
       "      <td>South Africa</td>\n",
       "      <td>Australia</td>\n",
       "      <td>212.0</td>\n",
       "      <td>215/7</td>\n",
       "      <td>https://www.espncricinfo.com/https://www.espnc...</td>\n",
       "      <td>3</td>\n",
       "      <td>212</td>\n",
       "    </tr>\n",
       "    <tr>\n",
       "      <th>2</th>\n",
       "      <td>India</td>\n",
       "      <td>New Zealand</td>\n",
       "      <td>India</td>\n",
       "      <td>70 runs</td>\n",
       "      <td>Wankhede</td>\n",
       "      <td>2023-11-15</td>\n",
       "      <td>4703.0</td>\n",
       "      <td>India</td>\n",
       "      <td>New Zealand</td>\n",
       "      <td>397/4</td>\n",
       "      <td>327.0</td>\n",
       "      <td>https://www.espncricinfo.com/https://www.espnc...</td>\n",
       "      <td>70</td>\n",
       "      <td>397</td>\n",
       "    </tr>\n",
       "    <tr>\n",
       "      <th>3</th>\n",
       "      <td>India</td>\n",
       "      <td>Netherlands</td>\n",
       "      <td>India</td>\n",
       "      <td>160 runs</td>\n",
       "      <td>Bengaluru</td>\n",
       "      <td>2023-11-12</td>\n",
       "      <td>4702.0</td>\n",
       "      <td>India</td>\n",
       "      <td>Netherlands</td>\n",
       "      <td>410/4</td>\n",
       "      <td>250.0</td>\n",
       "      <td>https://www.espncricinfo.com/https://www.espnc...</td>\n",
       "      <td>160</td>\n",
       "      <td>410</td>\n",
       "    </tr>\n",
       "    <tr>\n",
       "      <th>4</th>\n",
       "      <td>England</td>\n",
       "      <td>Pakistan</td>\n",
       "      <td>England</td>\n",
       "      <td>93 runs</td>\n",
       "      <td>Eden Gardens</td>\n",
       "      <td>2023-11-11</td>\n",
       "      <td>4701.0</td>\n",
       "      <td>England</td>\n",
       "      <td>Pakistan</td>\n",
       "      <td>337/9</td>\n",
       "      <td>244.0</td>\n",
       "      <td>https://www.espncricinfo.com/https://www.espnc...</td>\n",
       "      <td>93</td>\n",
       "      <td>337</td>\n",
       "    </tr>\n",
       "  </tbody>\n",
       "</table>\n",
       "</div>"
      ],
      "text/plain": [
       "      Team 1        Team 2     Winner     Margin        Ground Match Date  \\\n",
       "0      India     Australia  Australia  6 wickets     Ahmedabad 2023-11-19   \n",
       "1  Australia  South Africa  Australia  3 wickets  Eden Gardens 2023-11-16   \n",
       "2      India   New Zealand      India    70 runs      Wankhede 2023-11-15   \n",
       "3      India   Netherlands      India   160 runs     Bengaluru 2023-11-12   \n",
       "4    England      Pakistan    England    93 runs  Eden Gardens 2023-11-11   \n",
       "\n",
       "       id     bat_first   bat_second bat_first_score bat_second_score  \\\n",
       "0  4705.0         India    Australia           240.0            241/4   \n",
       "1  4704.0  South Africa    Australia           212.0            215/7   \n",
       "2  4703.0         India  New Zealand           397/4            327.0   \n",
       "3  4702.0         India  Netherlands           410/4            250.0   \n",
       "4  4701.0       England     Pakistan           337/9            244.0   \n",
       "\n",
       "                                           Scorecard  Margin_dup  \\\n",
       "0  https://www.espncricinfo.com/https://www.espnc...           6   \n",
       "1  https://www.espncricinfo.com/https://www.espnc...           3   \n",
       "2  https://www.espncricinfo.com/https://www.espnc...          70   \n",
       "3  https://www.espncricinfo.com/https://www.espnc...         160   \n",
       "4  https://www.espncricinfo.com/https://www.espnc...          93   \n",
       "\n",
       "   bat_first_dup  \n",
       "0            240  \n",
       "1            212  \n",
       "2            397  \n",
       "3            410  \n",
       "4            337  "
      ]
     },
     "execution_count": 27,
     "metadata": {},
     "output_type": "execute_result"
    }
   ],
   "source": [
    "df.head()"
   ]
  },
  {
   "cell_type": "markdown",
   "metadata": {},
   "source": [
    "### Average of First inning Score"
   ]
  },
  {
   "cell_type": "code",
   "execution_count": 28,
   "metadata": {},
   "outputs": [
    {
     "data": {
      "text/plain": [
       "289.4791666666667"
      ]
     },
     "execution_count": 28,
     "metadata": {},
     "output_type": "execute_result"
    }
   ],
   "source": [
    "df[\"bat_first_dup\"].mean()"
   ]
  },
  {
   "cell_type": "markdown",
   "metadata": {},
   "source": [
    "### Average of second inning score"
   ]
  },
  {
   "cell_type": "code",
   "execution_count": 9,
   "metadata": {},
   "outputs": [],
   "source": [
    "df[\"bat_second_dup\"]=df[\"bat_second_score\"].astype(str).apply(lambda x: \"0\"+x if len(x)<3 else x[:3])"
   ]
  },
  {
   "cell_type": "code",
   "execution_count": 10,
   "metadata": {},
   "outputs": [],
   "source": [
    "# df[\"bat_second_dup\"].unique()\n",
    "df[\"bat_second_dup\"] = df[\"bat_second_dup\"].replace({'(\\d+)\\.': r'\\1'}, regex=True)"
   ]
  },
  {
   "cell_type": "code",
   "execution_count": 11,
   "metadata": {},
   "outputs": [],
   "source": [
    "df[\"bat_second_dup\"]=df[\"bat_second_dup\"].astype(int)"
   ]
  },
  {
   "cell_type": "code",
   "execution_count": 12,
   "metadata": {},
   "outputs": [
    {
     "data": {
      "text/plain": [
       "223.83333333333334"
      ]
     },
     "execution_count": 12,
     "metadata": {},
     "output_type": "execute_result"
    }
   ],
   "source": [
    "df[\"bat_second_dup\"].mean()"
   ]
  },
  {
   "cell_type": "markdown",
   "metadata": {},
   "source": [
    "### avg first innings winning score"
   ]
  },
  {
   "cell_type": "code",
   "execution_count": 13,
   "metadata": {},
   "outputs": [],
   "source": [
    "def first_inning(vals):\n",
    "    if vals[\"Winner\"]==vals[\"bat_first\"]:\n",
    "        return 1\n",
    "    else:\n",
    "        return 0"
   ]
  },
  {
   "cell_type": "code",
   "execution_count": 14,
   "metadata": {},
   "outputs": [],
   "source": [
    "df[\"first_inning_winnig\"]=df.apply(first_inning,axis=1)"
   ]
  },
  {
   "cell_type": "code",
   "execution_count": 15,
   "metadata": {},
   "outputs": [
    {
     "data": {
      "text/plain": [
       "336.0869565217391"
      ]
     },
     "execution_count": 15,
     "metadata": {},
     "output_type": "execute_result"
    }
   ],
   "source": [
    "df[df[\"first_inning_winnig\"]==1][\"bat_first_dup\"].mean()"
   ]
  },
  {
   "cell_type": "markdown",
   "metadata": {},
   "source": [
    "### avg Second innings winning score"
   ]
  },
  {
   "cell_type": "code",
   "execution_count": 16,
   "metadata": {},
   "outputs": [],
   "source": [
    "def Second_inning(vals):\n",
    "    if vals[\"Winner\"]==vals[\"bat_second\"]:\n",
    "        return 1\n",
    "    else:\n",
    "        return 0"
   ]
  },
  {
   "cell_type": "code",
   "execution_count": 17,
   "metadata": {},
   "outputs": [],
   "source": [
    "df[\"second_inning_flag\"]=df.apply(Second_inning,axis=1)"
   ]
  },
  {
   "cell_type": "code",
   "execution_count": 18,
   "metadata": {},
   "outputs": [
    {
     "data": {
      "text/plain": [
       "240.6"
      ]
     },
     "execution_count": 18,
     "metadata": {},
     "output_type": "execute_result"
    }
   ],
   "source": [
    "# df[df[\"second_inning_flag\"==1]][\"bat_second_dup\"].mean()\n",
    "# df[df[\"second_inning_flag\"]==1][\"bat_second_dup\"].mean()\n",
    "ca=df.groupby(\"second_inning_flag\").bat_second_dup.mean()\n",
    "ca[1]"
   ]
  },
  {
   "cell_type": "markdown",
   "metadata": {},
   "source": [
    "### Average of first innnings winning score stadium wise"
   ]
  },
  {
   "cell_type": "code",
   "execution_count": 19,
   "metadata": {},
   "outputs": [
    {
     "data": {
      "text/plain": [
       "Ground\n",
       "Ahmedabad       286.000000\n",
       "Bengaluru       388.500000\n",
       "Chennai         288.000000\n",
       "Delhi           370.333333\n",
       "Dharamsala      332.333333\n",
       "Eden Gardens    297.333333\n",
       "Hyderabad       304.000000\n",
       "Lucknow         270.000000\n",
       "Pune            348.000000\n",
       "Wankhede        383.750000\n",
       "Name: bat_first_dup, dtype: float64"
      ]
     },
     "execution_count": 19,
     "metadata": {},
     "output_type": "execute_result"
    }
   ],
   "source": [
    "df[df[\"first_inning_winnig\"]==1].groupby(\"Ground\").bat_first_dup.mean() "
   ]
  },
  {
   "cell_type": "markdown",
   "metadata": {},
   "source": [
    "### Average of first innnings winning score team wise"
   ]
  },
  {
   "cell_type": "code",
   "execution_count": 20,
   "metadata": {},
   "outputs": [
    {
     "data": {
      "text/plain": [
       "bat_first\n",
       "Afghanistan     284.000000\n",
       "Australia       360.000000\n",
       "England         346.666667\n",
       "India           343.800000\n",
       "Netherlands     237.000000\n",
       "New Zealand     305.000000\n",
       "Pakistan        286.000000\n",
       "South Africa    375.400000\n",
       "Name: bat_first_dup, dtype: float64"
      ]
     },
     "execution_count": 20,
     "metadata": {},
     "output_type": "execute_result"
    }
   ],
   "source": [
    "df[df[\"first_inning_winnig\"]==1].groupby(\"bat_first\").bat_first_dup.mean() "
   ]
  },
  {
   "cell_type": "markdown",
   "metadata": {},
   "source": [
    "### Average of second innnings winning score team wise"
   ]
  },
  {
   "cell_type": "code",
   "execution_count": 21,
   "metadata": {},
   "outputs": [
    {
     "data": {
      "text/plain": [
       "bat_second\n",
       "Afghanistan     236.333333\n",
       "Australia       254.200000\n",
       "Bangladesh      220.000000\n",
       "India           240.200000\n",
       "New Zealand     234.333333\n",
       "Pakistan        250.000000\n",
       "South Africa    259.000000\n",
       "Sri Lanka       211.500000\n",
       "Name: bat_second_dup, dtype: float64"
      ]
     },
     "execution_count": 21,
     "metadata": {},
     "output_type": "execute_result"
    }
   ],
   "source": [
    "df[df[\"first_inning_winnig\"]==0].groupby(\"bat_second\").bat_second_dup.mean()"
   ]
  },
  {
   "cell_type": "markdown",
   "metadata": {},
   "source": [
    "### Average of Margin of runs stadium wise"
   ]
  },
  {
   "cell_type": "code",
   "execution_count": 22,
   "metadata": {},
   "outputs": [
    {
     "data": {
      "text/plain": [
       "bat_first\n",
       "Afghanistan      69.00\n",
       "Australia       102.25\n",
       "England         130.00\n",
       "India           175.00\n",
       "Netherlands      62.50\n",
       "New Zealand     124.00\n",
       "Pakistan         81.00\n",
       "South Africa    160.80\n",
       "Name: Margin_dup, dtype: float64"
      ]
     },
     "execution_count": 22,
     "metadata": {},
     "output_type": "execute_result"
    }
   ],
   "source": [
    "df[df[\"first_inning_winnig\"]==1].groupby(\"bat_first\").Margin_dup.mean()"
   ]
  },
  {
   "cell_type": "code",
   "execution_count": 23,
   "metadata": {},
   "outputs": [
    {
     "data": {
      "text/plain": [
       "Ground\n",
       "Ahmedabad       286.000000\n",
       "Bengaluru       388.500000\n",
       "Chennai         288.000000\n",
       "Delhi           370.333333\n",
       "Dharamsala      332.333333\n",
       "Eden Gardens    297.333333\n",
       "Hyderabad       304.000000\n",
       "Lucknow         270.000000\n",
       "Pune            348.000000\n",
       "Wankhede        383.750000\n",
       "Name: bat_first_dup, dtype: float64"
      ]
     },
     "execution_count": 23,
     "metadata": {},
     "output_type": "execute_result"
    }
   ],
   "source": [
    "df[df[\"first_inning_winnig\"]==1].groupby(\"Ground\").bat_first_dup.mean()  "
   ]
  },
  {
   "cell_type": "code",
   "execution_count": null,
   "metadata": {},
   "outputs": [],
   "source": []
  }
 ],
 "metadata": {
  "kernelspec": {
   "display_name": "Python 3",
   "language": "python",
   "name": "python3"
  },
  "language_info": {
   "codemirror_mode": {
    "name": "ipython",
    "version": 3
   },
   "file_extension": ".py",
   "mimetype": "text/x-python",
   "name": "python",
   "nbconvert_exporter": "python",
   "pygments_lexer": "ipython3",
   "version": "3.7.5"
  }
 },
 "nbformat": 4,
 "nbformat_minor": 2
}
