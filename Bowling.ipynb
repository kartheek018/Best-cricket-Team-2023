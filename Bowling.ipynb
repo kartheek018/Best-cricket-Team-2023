{
 "cells": [
  {
   "cell_type": "code",
   "execution_count": 73,
   "metadata": {},
   "outputs": [],
   "source": [
    "from bs4 import BeautifulSoup\n",
    "import requests\n",
    "import pandas as pd"
   ]
  },
  {
   "cell_type": "code",
   "execution_count": null,
   "metadata": {},
   "outputs": [],
   "source": [
    "url=\"https://www.espncricinfo.com/records/tournament/averages-bowling/icc-cricket-world-cup-2023-24-15338\"\n",
    "r=requests.get(url)\n",
    "r"
   ]
  },
  {
   "cell_type": "code",
   "execution_count": null,
   "metadata": {},
   "outputs": [],
   "source": [
    "soup=BeautifulSoup(r.text,\"html.parser\")\n",
    "table = soup.find(\"table\", class_=lambda x: x and \"ds-table\" in x)"
   ]
  },
  {
   "cell_type": "code",
   "execution_count": null,
   "metadata": {},
   "outputs": [],
   "source": [
    "table"
   ]
  },
  {
   "cell_type": "code",
   "execution_count": null,
   "metadata": {},
   "outputs": [],
   "source": [
    "rows=table.find(\"thead\",class_=\"ds-bg-fill-content-alternate ds-text-left\")"
   ]
  },
  {
   "cell_type": "code",
   "execution_count": null,
   "metadata": {},
   "outputs": [],
   "source": [
    "head=rows.find_all(\"td\")\n",
    "headers=[]\n",
    "for i in range(len(head)):\n",
    "    soup1=head[i]\n",
    "    x=soup1.find(\"span\",class_=\"ds-cursor-pointer\")\n",
    "    headers.append(x.text)"
   ]
  },
  {
   "cell_type": "code",
   "execution_count": null,
   "metadata": {},
   "outputs": [],
   "source": [
    "headers"
   ]
  },
  {
   "cell_type": "code",
   "execution_count": null,
   "metadata": {},
   "outputs": [],
   "source": [
    "player_details=[]\n",
    "body=table.find_all(\"tr\",class_=\"ds-table-row-compact-bottom\")"
   ]
  },
  {
   "cell_type": "code",
   "execution_count": null,
   "metadata": {},
   "outputs": [],
   "source": [
    "l=[]\n",
    "for i in range(len(body)):\n",
    "    sample=[]\n",
    "    nam=body[i].find(\"span\",class_=\"ds-text-tight-s\").text\n",
    "    newl=body[i].find_all(\"td\",\"ds-text-right\")\n",
    "    sample.append(nam)\n",
    "    count=0\n",
    "    for j in range(len(newl)):\n",
    "        count+=1\n",
    "        data=newl[j].find(\"span\",\"\").text\n",
    "        sample.append(data)\n",
    "    l.append(sample)\n",
    "    print(count)"
   ]
  },
  {
   "cell_type": "code",
   "execution_count": null,
   "metadata": {},
   "outputs": [],
   "source": [
    "df=pd.DataFrame(l,columns=headers)\n",
    "df"
   ]
  },
  {
   "cell_type": "code",
   "execution_count": 106,
   "metadata": {},
   "outputs": [],
   "source": [
    "count=table.find_all(\"tr\",\"ds-table-row-compact-top\")\n"
   ]
  },
  {
   "cell_type": "code",
   "execution_count": 107,
   "metadata": {},
   "outputs": [],
   "source": [
    "country=[]\n",
    "for i in range(len(count)):\n",
    "    country.append(count[i].find(\"td\",\"ds-min-w-max\").text)"
   ]
  },
  {
   "cell_type": "code",
   "execution_count": 108,
   "metadata": {},
   "outputs": [],
   "source": [
    "heads=[\"country\"]"
   ]
  },
  {
   "cell_type": "code",
   "execution_count": 109,
   "metadata": {},
   "outputs": [],
   "source": [
    "df2=pd.DataFrame(country,columns=heads)"
   ]
  },
  {
   "cell_type": "code",
   "execution_count": null,
   "metadata": {},
   "outputs": [],
   "source": [
    "df2"
   ]
  },
  {
   "cell_type": "code",
   "execution_count": 116,
   "metadata": {},
   "outputs": [],
   "source": [
    "df.reset_index(inplace=True)"
   ]
  },
  {
   "cell_type": "code",
   "execution_count": 120,
   "metadata": {},
   "outputs": [],
   "source": [
    "Bowling_data=df.merge(df2,on=\"index\")"
   ]
  },
  {
   "cell_type": "code",
   "execution_count": 122,
   "metadata": {},
   "outputs": [
    {
     "data": {
      "text/html": [
       "<div>\n",
       "<style scoped>\n",
       "    .dataframe tbody tr th:only-of-type {\n",
       "        vertical-align: middle;\n",
       "    }\n",
       "\n",
       "    .dataframe tbody tr th {\n",
       "        vertical-align: top;\n",
       "    }\n",
       "\n",
       "    .dataframe thead th {\n",
       "        text-align: right;\n",
       "    }\n",
       "</style>\n",
       "<table border=\"1\" class=\"dataframe\">\n",
       "  <thead>\n",
       "    <tr style=\"text-align: right;\">\n",
       "      <th></th>\n",
       "      <th>Player</th>\n",
       "      <th>Span</th>\n",
       "      <th>Mat</th>\n",
       "      <th>Inns</th>\n",
       "      <th>Balls</th>\n",
       "      <th>Mdns</th>\n",
       "      <th>Runs</th>\n",
       "      <th>Wkts</th>\n",
       "      <th>BBI</th>\n",
       "      <th>Ave</th>\n",
       "      <th>Econ</th>\n",
       "      <th>SR</th>\n",
       "      <th>5</th>\n",
       "      <th>10</th>\n",
       "      <th>Ct</th>\n",
       "      <th>St</th>\n",
       "      <th>country</th>\n",
       "    </tr>\n",
       "  </thead>\n",
       "  <tbody>\n",
       "    <tr>\n",
       "      <th>0</th>\n",
       "      <td>SA Abbott</td>\n",
       "      <td>2023-2023</td>\n",
       "      <td>1</td>\n",
       "      <td>1</td>\n",
       "      <td>60</td>\n",
       "      <td>-</td>\n",
       "      <td>61</td>\n",
       "      <td>2</td>\n",
       "      <td>2/61</td>\n",
       "      <td>30.50</td>\n",
       "      <td>6.10</td>\n",
       "      <td>30.0</td>\n",
       "      <td>-</td>\n",
       "      <td>-</td>\n",
       "      <td>1</td>\n",
       "      <td>-</td>\n",
       "      <td>Australia</td>\n",
       "    </tr>\n",
       "    <tr>\n",
       "      <th>1</th>\n",
       "      <td>Abdullah Shafique</td>\n",
       "      <td>2023-2023</td>\n",
       "      <td>8</td>\n",
       "      <td>-</td>\n",
       "      <td>0</td>\n",
       "      <td>-</td>\n",
       "      <td>-</td>\n",
       "      <td>-</td>\n",
       "      <td>-</td>\n",
       "      <td>-</td>\n",
       "      <td>-</td>\n",
       "      <td>-</td>\n",
       "      <td>-</td>\n",
       "      <td>-</td>\n",
       "      <td>2</td>\n",
       "      <td>-</td>\n",
       "      <td>Pakistan</td>\n",
       "    </tr>\n",
       "    <tr>\n",
       "      <th>2</th>\n",
       "      <td>CN Ackermann</td>\n",
       "      <td>2023-2023</td>\n",
       "      <td>9</td>\n",
       "      <td>9</td>\n",
       "      <td>284</td>\n",
       "      <td>2</td>\n",
       "      <td>234</td>\n",
       "      <td>5</td>\n",
       "      <td>2/39</td>\n",
       "      <td>46.80</td>\n",
       "      <td>4.94</td>\n",
       "      <td>56.8</td>\n",
       "      <td>-</td>\n",
       "      <td>-</td>\n",
       "      <td>3</td>\n",
       "      <td>-</td>\n",
       "      <td>Netherlands</td>\n",
       "    </tr>\n",
       "    <tr>\n",
       "      <th>3</th>\n",
       "      <td>Agha Salman</td>\n",
       "      <td>2023-2023</td>\n",
       "      <td>3</td>\n",
       "      <td>2</td>\n",
       "      <td>30</td>\n",
       "      <td>-</td>\n",
       "      <td>46</td>\n",
       "      <td>-</td>\n",
       "      <td>-</td>\n",
       "      <td>-</td>\n",
       "      <td>9.20</td>\n",
       "      <td>-</td>\n",
       "      <td>-</td>\n",
       "      <td>-</td>\n",
       "      <td>3</td>\n",
       "      <td>-</td>\n",
       "      <td>Pakistan</td>\n",
       "    </tr>\n",
       "    <tr>\n",
       "      <th>4</th>\n",
       "      <td>MM Ali</td>\n",
       "      <td>2023-2023</td>\n",
       "      <td>6</td>\n",
       "      <td>6</td>\n",
       "      <td>256</td>\n",
       "      <td>-</td>\n",
       "      <td>248</td>\n",
       "      <td>5</td>\n",
       "      <td>3/42</td>\n",
       "      <td>49.60</td>\n",
       "      <td>5.81</td>\n",
       "      <td>51.2</td>\n",
       "      <td>-</td>\n",
       "      <td>-</td>\n",
       "      <td>4</td>\n",
       "      <td>-</td>\n",
       "      <td>England</td>\n",
       "    </tr>\n",
       "    <tr>\n",
       "      <th>...</th>\n",
       "      <td>...</td>\n",
       "      <td>...</td>\n",
       "      <td>...</td>\n",
       "      <td>...</td>\n",
       "      <td>...</td>\n",
       "      <td>...</td>\n",
       "      <td>...</td>\n",
       "      <td>...</td>\n",
       "      <td>...</td>\n",
       "      <td>...</td>\n",
       "      <td>...</td>\n",
       "      <td>...</td>\n",
       "      <td>...</td>\n",
       "      <td>...</td>\n",
       "      <td>...</td>\n",
       "      <td>...</td>\n",
       "      <td>...</td>\n",
       "    </tr>\n",
       "    <tr>\n",
       "      <th>146</th>\n",
       "      <td>CR Woakes</td>\n",
       "      <td>2023-2023</td>\n",
       "      <td>8</td>\n",
       "      <td>8</td>\n",
       "      <td>330</td>\n",
       "      <td>1</td>\n",
       "      <td>298</td>\n",
       "      <td>10</td>\n",
       "      <td>4/54</td>\n",
       "      <td>29.80</td>\n",
       "      <td>5.41</td>\n",
       "      <td>33.0</td>\n",
       "      <td>-</td>\n",
       "      <td>-</td>\n",
       "      <td>3</td>\n",
       "      <td>-</td>\n",
       "      <td>England</td>\n",
       "    </tr>\n",
       "    <tr>\n",
       "      <th>147</th>\n",
       "      <td>MA Wood</td>\n",
       "      <td>2023-2023</td>\n",
       "      <td>7</td>\n",
       "      <td>7</td>\n",
       "      <td>324</td>\n",
       "      <td>1</td>\n",
       "      <td>349</td>\n",
       "      <td>6</td>\n",
       "      <td>2/50</td>\n",
       "      <td>58.16</td>\n",
       "      <td>6.46</td>\n",
       "      <td>54.0</td>\n",
       "      <td>-</td>\n",
       "      <td>-</td>\n",
       "      <td>1</td>\n",
       "      <td>-</td>\n",
       "      <td>England</td>\n",
       "    </tr>\n",
       "    <tr>\n",
       "      <th>148</th>\n",
       "      <td>SA Yadav</td>\n",
       "      <td>2023-2023</td>\n",
       "      <td>7</td>\n",
       "      <td>1</td>\n",
       "      <td>12</td>\n",
       "      <td>-</td>\n",
       "      <td>17</td>\n",
       "      <td>-</td>\n",
       "      <td>-</td>\n",
       "      <td>-</td>\n",
       "      <td>8.50</td>\n",
       "      <td>-</td>\n",
       "      <td>-</td>\n",
       "      <td>-</td>\n",
       "      <td>1</td>\n",
       "      <td>-</td>\n",
       "      <td>India</td>\n",
       "    </tr>\n",
       "    <tr>\n",
       "      <th>149</th>\n",
       "      <td>WA Young</td>\n",
       "      <td>2023-2023</td>\n",
       "      <td>6</td>\n",
       "      <td>-</td>\n",
       "      <td>0</td>\n",
       "      <td>-</td>\n",
       "      <td>-</td>\n",
       "      <td>-</td>\n",
       "      <td>-</td>\n",
       "      <td>-</td>\n",
       "      <td>-</td>\n",
       "      <td>-</td>\n",
       "      <td>-</td>\n",
       "      <td>-</td>\n",
       "      <td>2</td>\n",
       "      <td>-</td>\n",
       "      <td>New Zealand</td>\n",
       "    </tr>\n",
       "    <tr>\n",
       "      <th>150</th>\n",
       "      <td>A Zampa</td>\n",
       "      <td>2023-2023</td>\n",
       "      <td>11</td>\n",
       "      <td>11</td>\n",
       "      <td>576</td>\n",
       "      <td>1</td>\n",
       "      <td>515</td>\n",
       "      <td>23</td>\n",
       "      <td>4/8</td>\n",
       "      <td>22.39</td>\n",
       "      <td>5.36</td>\n",
       "      <td>25.0</td>\n",
       "      <td>-</td>\n",
       "      <td>-</td>\n",
       "      <td>2</td>\n",
       "      <td>-</td>\n",
       "      <td>Australia</td>\n",
       "    </tr>\n",
       "  </tbody>\n",
       "</table>\n",
       "<p>151 rows × 17 columns</p>\n",
       "</div>"
      ],
      "text/plain": [
       "                Player       Span Mat Inns Balls Mdns Runs Wkts   BBI    Ave  \\\n",
       "0            SA Abbott  2023-2023   1    1    60    -   61    2  2/61  30.50   \n",
       "1    Abdullah Shafique  2023-2023   8    -     0    -    -    -     -      -   \n",
       "2         CN Ackermann  2023-2023   9    9   284    2  234    5  2/39  46.80   \n",
       "3          Agha Salman  2023-2023   3    2    30    -   46    -     -      -   \n",
       "4               MM Ali  2023-2023   6    6   256    -  248    5  3/42  49.60   \n",
       "..                 ...        ...  ..  ...   ...  ...  ...  ...   ...    ...   \n",
       "146          CR Woakes  2023-2023   8    8   330    1  298   10  4/54  29.80   \n",
       "147            MA Wood  2023-2023   7    7   324    1  349    6  2/50  58.16   \n",
       "148           SA Yadav  2023-2023   7    1    12    -   17    -     -      -   \n",
       "149           WA Young  2023-2023   6    -     0    -    -    -     -      -   \n",
       "150            A Zampa  2023-2023  11   11   576    1  515   23   4/8  22.39   \n",
       "\n",
       "     Econ    SR  5 10 Ct St      country  \n",
       "0    6.10  30.0  -  -  1  -    Australia  \n",
       "1       -     -  -  -  2  -     Pakistan  \n",
       "2    4.94  56.8  -  -  3  -  Netherlands  \n",
       "3    9.20     -  -  -  3  -     Pakistan  \n",
       "4    5.81  51.2  -  -  4  -      England  \n",
       "..    ...   ... .. .. .. ..          ...  \n",
       "146  5.41  33.0  -  -  3  -      England  \n",
       "147  6.46  54.0  -  -  1  -      England  \n",
       "148  8.50     -  -  -  1  -        India  \n",
       "149     -     -  -  -  2  -  New Zealand  \n",
       "150  5.36  25.0  -  -  2  -    Australia  \n",
       "\n",
       "[151 rows x 17 columns]"
      ]
     },
     "execution_count": 122,
     "metadata": {},
     "output_type": "execute_result"
    }
   ],
   "source": [
    "Bowling_data.drop(columns=\"index\")"
   ]
  },
  {
   "cell_type": "code",
   "execution_count": null,
   "metadata": {},
   "outputs": [],
   "source": [
    "Bowling_data.columns"
   ]
  },
  {
   "cell_type": "code",
   "execution_count": 126,
   "metadata": {},
   "outputs": [],
   "source": [
    "Bowling_data=Bowling_data[[ 'Player', 'country', 'Span', 'Mat', 'Inns', 'Balls', 'Mdns', 'Runs',\n",
    "       'Wkts', 'BBI', 'Ave', 'Econ', 'SR', '5', '10', 'Ct', 'St', ]]"
   ]
  },
  {
   "cell_type": "code",
   "execution_count": null,
   "metadata": {},
   "outputs": [],
   "source": [
    "Bowling_data.rename(columns={\"country\":\"Country\"},inplace=True)"
   ]
  },
  {
   "cell_type": "code",
   "execution_count": 131,
   "metadata": {},
   "outputs": [],
   "source": [
    "Bowling_data.to_csv(\"Bowling_data.csv\",index=False)"
   ]
  },
  {
   "cell_type": "code",
   "execution_count": null,
   "metadata": {},
   "outputs": [],
   "source": []
  }
 ],
 "metadata": {
  "kernelspec": {
   "display_name": "Python 3",
   "language": "python",
   "name": "python3"
  },
  "language_info": {
   "codemirror_mode": {
    "name": "ipython",
    "version": 3
   },
   "file_extension": ".py",
   "mimetype": "text/x-python",
   "name": "python",
   "nbconvert_exporter": "python",
   "pygments_lexer": "ipython3",
   "version": "3.7.5"
  }
 },
 "nbformat": 4,
 "nbformat_minor": 2
}
